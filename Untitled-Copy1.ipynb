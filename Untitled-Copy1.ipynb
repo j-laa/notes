{
 "cells": [
  {
   "cell_type": "code",
   "execution_count": 75,
   "metadata": {},
   "outputs": [
    {
     "name": "stdout",
     "output_type": "stream",
     "text": [
      "Hello World\n"
     ]
    }
   ],
   "source": [
    "#print hello world\n",
    "print(\"Hello World\")"
   ]
  },
  {
   "cell_type": "code",
   "execution_count": 10,
   "metadata": {},
   "outputs": [
    {
     "name": "stdout",
     "output_type": "stream",
     "text": [
      "7\n"
     ]
    }
   ],
   "source": [
    "# Variables\n",
    "x=4\n",
    "print (x+3)"
   ]
  },
  {
   "cell_type": "code",
   "execution_count": 80,
   "metadata": {},
   "outputs": [
    {
     "name": "stdout",
     "output_type": "stream",
     "text": [
      "suadfyabsdfjas8429ndfkj0;sf;\n",
      "hiJoon\n",
      "hihi\n",
      "1\n",
      "<class 'int'>\n"
     ]
    },
    {
     "data": {
      "text/plain": [
       "10.2"
      ]
     },
     "execution_count": 80,
     "metadata": {},
     "output_type": "execute_result"
    }
   ],
   "source": [
    "#Data types\n",
    "\n",
    "#Strings -> \"Everything between a quotation mark.\" mathematical things don't work\n",
    "string1 = \"suadfyabsdfjas8429ndfkj0;sf;\"\n",
    "print(string1)\n",
    "\n",
    "a = \"hi\"\n",
    "b = \"Joon\"\n",
    "\n",
    "print(a+b)\n",
    "#print a and b together\n",
    "print(a*2)\n",
    "#print a twice\n",
    "\n",
    "#integer -> number/natural number. mathematical things work.\n",
    "integer = 1\n",
    "print(integer)\n",
    "type(integer)\n",
    "print(type(integer))\n",
    "\n",
    "#floating point numbers -> integers but it needs to have decimals\n",
    "flt = 5.0\n",
    "flt2 = 5.2\n",
    "\n",
    "flt+flt2"
   ]
  },
  {
   "cell_type": "code",
   "execution_count": 86,
   "metadata": {},
   "outputs": [
    {
     "name": "stdout",
     "output_type": "stream",
     "text": [
      "True\n",
      "True\n",
      "<class 'bool'>\n"
     ]
    }
   ],
   "source": [
    "flt1 = 5.0\n",
    "int1 = 5\n",
    "\n",
    "print(flt1 == int1)\n",
    "str1 = \"hi\"\n",
    "str2 = \"hi\"\n",
    "\n",
    "print(str1 == str2)\n",
    "#it's the same, hi and hi are same, 5.0 is equal to 5\n",
    "#str1 and str2 have the same ASCII values. "
   ]
  },
  {
   "cell_type": "code",
   "execution_count": 82,
   "metadata": {},
   "outputs": [
    {
     "name": "stdout",
     "output_type": "stream",
     "text": [
      "3.141592653589793\n",
      "0.15425144988758405\n"
     ]
    }
   ],
   "source": [
    "#Libraries\n",
    "import math\n",
    "\n",
    "print(math.pi)\n",
    "print(math.cos(30))"
   ]
  },
  {
   "cell_type": "code",
   "execution_count": 29,
   "metadata": {},
   "outputs": [],
   "source": [
    "# volume of sphere: 4/3(pi)r^3"
   ]
  },
  {
   "cell_type": "code",
   "execution_count": 40,
   "metadata": {},
   "outputs": [
    {
     "name": "stdout",
     "output_type": "stream",
     "text": [
      "904.7786842338603\n"
     ]
    }
   ],
   "source": [
    "pi=math.pi\n",
    "x=6\n",
    "v=4/3*pi*x**3\n",
    "print(v)"
   ]
  },
  {
   "cell_type": "code",
   "execution_count": 41,
   "metadata": {},
   "outputs": [],
   "source": [
    "#law of cosine (a**2+b**2-2*a*b*cosx)**1/2"
   ]
  },
  {
   "cell_type": "code",
   "execution_count": 45,
   "metadata": {},
   "outputs": [
    {
     "name": "stdout",
     "output_type": "stream",
     "text": [
      "5.574491300674496\n"
     ]
    }
   ],
   "source": [
    "cos=math.cos\n",
    "a=2\n",
    "b=3\n",
    "x=30\n",
    "c=(a**2+b**2-2*a*b*cos(x))**1/2\n",
    "print(c)"
   ]
  },
  {
   "cell_type": "code",
   "execution_count": 47,
   "metadata": {},
   "outputs": [
    {
     "data": {
      "text/plain": [
       "2.0"
      ]
     },
     "execution_count": 47,
     "metadata": {},
     "output_type": "execute_result"
    }
   ],
   "source": [
    "import math\n",
    "\n",
    "math.cos(30)\n",
    "math.sqrt(4)"
   ]
  },
  {
   "cell_type": "code",
   "execution_count": 52,
   "metadata": {},
   "outputs": [
    {
     "name": "stdout",
     "output_type": "stream",
     "text": [
      "a\n",
      "b\n",
      "a\n",
      "b\n",
      "I am 21\n",
      "I am 21\n"
     ]
    }
   ],
   "source": [
    "#Strings in Python\n",
    "\n",
    "print(\"a\\nb\")\n",
    "#\\n is skip line or new line. \n",
    "\n",
    "print(\"a\")\n",
    "print(\"b\")\n",
    "#Equivalent. \n",
    "\n",
    "print(\"I am\", 21)\n",
    "print (\"I am\" + \" 21\")\n",
    "#Equivalent. "
   ]
  },
  {
   "cell_type": "code",
   "execution_count": 55,
   "metadata": {},
   "outputs": [
    {
     "data": {
      "text/plain": [
       "False"
      ]
     },
     "execution_count": 55,
     "metadata": {},
     "output_type": "execute_result"
    }
   ],
   "source": [
    "\"ah\" in \"hahahahaahahah\"\n",
    "\"hello\" in \"Hello World\"\n",
    "\"\" in \"Hellow\"\n",
    "#is ah in hahahahaahahah? case sensitive. blank input is in every string."
   ]
  },
  {
   "cell_type": "code",
   "execution_count": 56,
   "metadata": {},
   "outputs": [
    {
     "ename": "SyntaxError",
     "evalue": "invalid syntax (<ipython-input-56-3d9e238c0c8d>, line 1)",
     "output_type": "error",
     "traceback": [
      "\u001b[0;36m  File \u001b[0;32m\"<ipython-input-56-3d9e238c0c8d>\"\u001b[0;36m, line \u001b[0;32m1\u001b[0m\n\u001b[0;31m    and\u001b[0m\n\u001b[0m    ^\u001b[0m\n\u001b[0;31mSyntaxError\u001b[0m\u001b[0;31m:\u001b[0m invalid syntax\n"
     ]
    }
   ],
   "source": [
    "and\n",
    "from\n",
    "not\n",
    "while\n",
    "as\n",
    "elif\n",
    "or\n",
    "with\n",
    "assert\n",
    "else\n",
    "if\n",
    "pass\n",
    "break\n",
    "except\n",
    "import\n",
    "print\n",
    "class\n",
    "in\n",
    "raise\n",
    "continue\n",
    "is\n",
    "return\n",
    "def\n",
    "for\n",
    "try"
   ]
  },
  {
   "cell_type": "code",
   "execution_count": null,
   "metadata": {},
   "outputs": [],
   "source": [
    "# volume of sphere: 4/3(pi)r^3"
   ]
  },
  {
   "cell_type": "code",
   "execution_count": 67,
   "metadata": {},
   "outputs": [
    {
     "name": "stdout",
     "output_type": "stream",
     "text": [
      "radius3\n",
      "113.09733552923254\n"
     ]
    }
   ],
   "source": [
    "r = int(input(\"radius\"))\n",
    "pi = math.pi\n",
    "y = 4/3*(pi)*r**3\n",
    "print(y)\n",
    "\n",
    "#add int in front of input to change input from str to int"
   ]
  },
  {
   "cell_type": "code",
   "execution_count": null,
   "metadata": {},
   "outputs": [],
   "source": [
    "cos=math.cos\n",
    "a=2\n",
    "b=3\n",
    "x=30\n",
    "c=(a**2+b**2-2*a*b*cos(x))**1/2\n",
    "print(c)"
   ]
  },
  {
   "cell_type": "code",
   "execution_count": 69,
   "metadata": {},
   "outputs": [
    {
     "name": "stdout",
     "output_type": "stream",
     "text": [
      "side a3\n",
      "side b6\n",
      "angle40\n",
      "34.50488510974071\n"
     ]
    }
   ],
   "source": [
    "a = int(input(\"side a\"))\n",
    "b = int(input(\"side b\"))\n",
    "x = int(input(\"angle\"))\n",
    "cos=math.cos \n",
    "c=(a**2+b**2-2*a*b*cos(x))**1/2\n",
    "print(c)"
   ]
  },
  {
   "cell_type": "code",
   "execution_count": null,
   "metadata": {},
   "outputs": [],
   "source": []
  }
 ],
 "metadata": {
  "kernelspec": {
   "display_name": "Python 3",
   "language": "python",
   "name": "python3"
  },
  "language_info": {
   "codemirror_mode": {
    "name": "ipython",
    "version": 3
   },
   "file_extension": ".py",
   "mimetype": "text/x-python",
   "name": "python",
   "nbconvert_exporter": "python",
   "pygments_lexer": "ipython3",
   "version": "3.8.5"
  }
 },
 "nbformat": 4,
 "nbformat_minor": 4
}
